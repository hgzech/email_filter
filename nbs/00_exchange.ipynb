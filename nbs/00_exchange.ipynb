{
 "cells": [
  {
   "cell_type": "markdown",
   "metadata": {},
   "source": [
    "# exchange\n",
    "\n",
    "> This module interacts with exchange"
   ]
  },
  {
   "cell_type": "code",
   "execution_count": null,
   "metadata": {},
   "outputs": [],
   "source": [
    "#| hide\n",
    "from nbdev.showdoc import *"
   ]
  },
  {
   "cell_type": "code",
   "execution_count": null,
   "metadata": {},
   "outputs": [],
   "source": [
    "#| default_exp junk_checker"
   ]
  },
  {
   "cell_type": "code",
   "execution_count": null,
   "metadata": {},
   "outputs": [],
   "source": [
    "#| export\n",
    "import imaplib\n",
    "import email\n",
    "from email.header import decode_header\n",
    "from datetime import datetime\n",
    "import os"
   ]
  },
  {
   "cell_type": "markdown",
   "metadata": {},
   "source": [
    "Run the following in exchange to export your exchange user name and password (restart Terminal and Jupyter lab if it does not work):\n",
    "\n",
    "```\n",
    "echo 'export EXCHANGE_USER=\"YOUR_USERNAME\"' >> ~/.bashrc && grep -q 'source ~/.bashrc' ~/.bash_profile || echo -e \"\\nif [ -f ~/.bashrc ]; then\\n  source ~/.bashrc\\nfi\" >> ~/.bash_profile && source ~/.bashrc\n",
    "```\n",
    "and\n",
    "\n",
    "```\n",
    "echo 'export EXCHANGE_PASSWORD=\"YOUR_PASSWORD\"' >> ~/.bashrc && grep -q 'source ~/.bashrc' ~/.bash_profile || echo -e \"\\nif [ -f ~/.bashrc ]; then\\n  source ~/.bashrc\\nfi\" >> ~/.bash_profile && source ~/.bashrc\n",
    "```"
   ]
  },
  {
   "cell_type": "code",
   "execution_count": null,
   "metadata": {},
   "outputs": [],
   "source": [
    "#| export\n",
    "class EmailObject:\n",
    "    def __init__(self, sender, subject, email_id):\n",
    "        self.sender = sender\n",
    "        self.subject = subject\n",
    "        self.email_id = email_id\n",
    "\n",
    "class EmailClient:\n",
    "    def __init__(self, server, port, username, password):\n",
    "        self.mail = imaplib.IMAP4_SSL(server, port)\n",
    "        self.mail.login(username, password)\n",
    "\n",
    "    def get_emails(self, since_date=None):\n",
    "        self.mail.select(\"inbox\")\n",
    "        \n",
    "        if since_date:\n",
    "            since_date_str = since_date.strftime('%d-%b-%Y')\n",
    "            status, messages = self.mail.search(None, f'SINCE {since_date_str}')\n",
    "        else:\n",
    "            status, messages = self.mail.search(None, \"ALL\")\n",
    "            \n",
    "        email_ids = messages[0].split()\n",
    "        email_objects = []\n",
    "        \n",
    "        for e_id in email_ids:\n",
    "            status, msg_data = self.mail.fetch(e_id, \"(RFC822)\")\n",
    "            msg = email.message_from_bytes(msg_data[0][1])\n",
    "            \n",
    "            # Decode subject\n",
    "            subject, encoding = decode_header(msg[\"Subject\"])[0]\n",
    "            if isinstance(subject, bytes):\n",
    "                subject = subject.decode(encoding if encoding else \"utf-8\")\n",
    "            \n",
    "            # Extract sender\n",
    "            sender = msg[\"From\"]\n",
    "            \n",
    "            # Create email object and add to list\n",
    "            email_objects.append(EmailObject(sender, subject, e_id))\n",
    "        \n",
    "        return email_objects\n",
    "\n",
    "    def move_email(self, email_object, target_folder):\n",
    "        email_id = email_object.email_id\n",
    "        \n",
    "        # Ensure email_id is a byte-string\n",
    "        if not isinstance(email_id, bytes):\n",
    "            email_id = email_id.encode('utf-8')\n",
    "            \n",
    "        result = self.mail.copy(email_id, target_folder)\n",
    "        if result[0] == 'OK':\n",
    "            self.mail.store(email_id, '+FLAGS', '(\\Deleted)')\n",
    "            self.mail.expunge()\n",
    "\n",
    "    def logout(self):\n",
    "        self.mail.logout()"
   ]
  },
  {
   "cell_type": "code",
   "execution_count": null,
   "metadata": {},
   "outputs": [
    {
     "name": "stdout",
     "output_type": "stream",
     "text": [
      "Subject: [TRR265] , ID: b'12954'\n",
      "Subject: AW: SSRT etc, ID: b'12955'\n",
      "Subject: Hilmar, we found new jobs you may be interested in, ID: b'12956'\n",
      "Subject: monday - window cleaning, ID: b'12957'\n",
      "Subject: RE: SSRT etc, ID: b'12958'\n",
      "Subject: Individuelle Prognose für Ihren Gewichtsverlust, ID: b'12959'\n"
     ]
    }
   ],
   "source": [
    "#| notest\n",
    "\n",
    "USERNAME = os.environ.get(\"EXCHANGE_USER\")\n",
    "PASSWORD = os.environ.get(\"EXCHANGE_PASSWORD\")\n",
    "\n",
    "# Usage example\n",
    "email_client = EmailClient(\"msx.tu-dresden.de\", 993, USERNAME, PASSWORD)\n",
    "\n",
    "# Fetch emails since a specific date\n",
    "since_date = datetime(2023, 9, 22)  # Replace with actual date\n",
    "emails = email_client.get_emails(since_date=since_date)\n",
    "\n",
    "# Print and move emails\n",
    "for e in emails:\n",
    "    print(f\"Subject: {e.subject}, ID: {e.email_id}\")\n",
    "    email_client.move_email(e, 'Review')\n",
    "\n",
    "# Logout to close the connection\n",
    "email_client.logout()"
   ]
  }
 ],
 "metadata": {
  "kernelspec": {
   "display_name": "python3",
   "language": "python",
   "name": "python3"
  }
 },
 "nbformat": 4,
 "nbformat_minor": 4
}
