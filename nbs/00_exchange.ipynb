{
 "cells": [
  {
   "cell_type": "markdown",
   "metadata": {},
   "source": [
    "# exchange\n",
    "\n",
    "> This module interacts with exchange"
   ]
  },
  {
   "cell_type": "code",
   "execution_count": null,
   "metadata": {},
   "outputs": [],
   "source": [
    "#| hide\n",
    "from nbdev.showdoc import *"
   ]
  },
  {
   "cell_type": "code",
   "execution_count": null,
   "metadata": {},
   "outputs": [],
   "source": [
    "#| default_exp exchange"
   ]
  },
  {
   "cell_type": "code",
   "execution_count": null,
   "metadata": {},
   "outputs": [],
   "source": [
    "#| export\n",
    "import imaplib\n",
    "import email\n",
    "from email.header import decode_header\n",
    "from datetime import datetime\n",
    "import os\n",
    "import tldextract\n",
    "from email.utils import parseaddr, getaddresses"
   ]
  },
  {
   "cell_type": "markdown",
   "metadata": {},
   "source": [
    "Run the following in exchange to export your exchange user name and password (restart Terminal and Jupyter lab if it does not work):\n",
    "\n",
    "```\n",
    "echo 'export EXCHANGE_USER=\"YOUR_USERNAME\"' >> ~/.bashrc && grep -q 'source ~/.bashrc' ~/.bash_profile || echo -e \"\\nif [ -f ~/.bashrc ]; then\\n  source ~/.bashrc\\nfi\" >> ~/.bash_profile && source ~/.bashrc\n",
    "```\n",
    "and\n",
    "\n",
    "```\n",
    "echo 'export EXCHANGE_PASSWORD=\"YOUR_PASSWORD\"' >> ~/.bashrc && grep -q 'source ~/.bashrc' ~/.bash_profile || echo -e \"\\nif [ -f ~/.bashrc ]; then\\n  source ~/.bashrc\\nfi\" >> ~/.bash_profile && source ~/.bashrc\n",
    "```"
   ]
  },
  {
   "cell_type": "code",
   "execution_count": null,
   "metadata": {},
   "outputs": [],
   "source": [
    "#| export\n",
    "\n",
    "def extract_domains(addresses):\n",
    "    return [extract_domain(a) for a in addresses]\n",
    "\n",
    "def extract_domain(address):\n",
    "    domain = address.split('@')[1]\n",
    "    # Extract main domain from subdomain\n",
    "    main_domain = tldextract.extract(domain)\n",
    "    return f\"{main_domain.domain}.{main_domain.suffix}\"\n",
    "\n",
    "class EmailObject:\n",
    "    def __init__(self, sender, recipient, cc, bcc, subject, body, email_id):\n",
    "        self.sender = self.get_all_addresses(sender)\n",
    "        self.recipient = self.get_all_addresses(recipient)\n",
    "        self.cc = self.get_all_addresses(cc)\n",
    "        self.bcc = self.get_all_addresses(bcc)\n",
    "        self.subject = subject\n",
    "        self.body = body\n",
    "        self.email_id = email_id\n",
    "\n",
    "    def get_all_addresses(self, tofrom):\n",
    "        if not tofrom:\n",
    "            return []\n",
    "        addresses = [a[1] for a in getaddresses(tofrom.split(','))]\n",
    "        addresses = [a for a in addresses if '@' in a]\n",
    "        return addresses\n",
    "\n",
    "class EmailClient:\n",
    "    def __init__(self, server, port, username, password):\n",
    "        self.mail = imaplib.IMAP4_SSL(server, port)\n",
    "        self.mail.login(username, password)\n",
    "\n",
    "    def get_emails(self, from_folder='inbox', since_date=None, fetch_body=True):\n",
    "        self.mail.select(f'\"{from_folder}\"')\n",
    "        search_criteria = \"ALL\" if not since_date else f'SINCE {since_date.strftime(\"%d-%b-%Y\")}'\n",
    "        status, messages = self.mail.search(None, search_criteria)\n",
    "        email_ids = messages[0].split()\n",
    "        fetch_command = \"(RFC822)\" if fetch_body else \"(BODY[HEADER])\"\n",
    "        email_objects = []\n",
    "        for i in range(0, len(email_ids), 100):\n",
    "            batch = email_ids[i:i+100]\n",
    "            batch_str = ','.join(map(lambda x: x.decode(), batch))\n",
    "            status, msg_data = self.mail.fetch(batch_str, fetch_command)\n",
    "            self.process_batch(batch, msg_data, email_objects, fetch_body)\n",
    "        return email_objects\n",
    "    \n",
    "    def process_batch(self, batch, msg_data, email_objects, fetch_body):\n",
    "        index = 0\n",
    "        for response_part in msg_data:\n",
    "            if not isinstance(response_part, tuple):\n",
    "                continue\n",
    "            msg = email.message_from_bytes(response_part[1])\n",
    "            current_id = batch[index]\n",
    "            index += 1\n",
    "            subject = self.decode_subject(msg[\"Subject\"])\n",
    "            body = self.decode_body(msg) if fetch_body else \"\"\n",
    "            \n",
    "            email_objects.append(EmailObject(msg[\"From\"], msg[\"To\"], msg[\"Cc\"], msg[\"Bcc\"], subject, body, current_id))\n",
    "    \n",
    "    def decode_subject(self, encoded_subject):\n",
    "        subject, encoding = decode_header(encoded_subject)[0]\n",
    "        if isinstance(subject, bytes):\n",
    "            return subject.decode(encoding if encoding else \"utf-8\", 'ignore')\n",
    "        return subject\n",
    "    \n",
    "    def decode_body(self, msg):\n",
    "        if msg.is_multipart():\n",
    "            for part in msg.walk():\n",
    "                if part.get_content_type() == \"text/plain\":\n",
    "                    return part.get_payload(decode=True).decode('utf-8', 'ignore')\n",
    "        else:\n",
    "            return msg.get_payload(decode=True).decode('utf-8', 'ignore')\n",
    "        return \"\"\n",
    "\n",
    "\n",
    "    def move_email(self, email_object, target_folder):\n",
    "        email_id = email_object.email_id\n",
    "        # Ensure email_id is a byte-string\n",
    "        if not isinstance(email_id, bytes):\n",
    "            email_id = email_id.encode('utf-8')\n",
    "        result = self.mail.copy(email_id, target_folder)\n",
    "        if result[0] == 'OK':\n",
    "            self.mail.store(email_id, '+FLAGS', '(\\Deleted)')\n",
    "            self.mail.expunge()\n",
    "\n",
    "    def logout(self):\n",
    "        self.mail.logout()"
   ]
  },
  {
   "cell_type": "code",
   "execution_count": null,
   "metadata": {},
   "outputs": [
    {
     "name": "stdout",
     "output_type": "stream",
     "text": [
      "Subject: Re: Longitudinal paper, ID: []\n",
      "Subject: AW: [ext] TRR SST fMRT Daten, ID: []\n",
      "Subject: Re: Longitudinal paper, ID: []\n",
      "Subject: Re: [ext] TRR SST fMRT Daten, ID: []\n",
      "Subject: Re: Longitudinal paper, ID: []\n",
      "Subject: Re: Inquiry mobile EEG systems, ID: []\n",
      "Subject: Re: Measuring self-regulation in everyday life: Reliability and\n",
      " validity of smartphone-based experiments in alcohol use disorder, ID: []\n",
      "Subject: Re: Measuring self-regulation in everyday life: Reliability and\n",
      " validity of smartphone-based experiments in alcohol use disorder, ID: []\n",
      "Subject: Re: [Ext] Study design from your Current Biology paper, ID: []\n",
      "Subject: Re: [ext] TRR SST fMRT Daten, ID: []\n",
      "Subject: Re:  Re: [ext] TRR SST fMRT Daten, ID: []\n",
      "Subject: RE: [ext] TRR SST fMRT Daten, ID: []\n",
      "Subject: Re: Collaboration proposal on mobile Approach Avoidance Task, ID: []\n",
      "Subject: Invitation Mail: submit an article, ID: []\n",
      "Subject: Encourage young researchers with your work - Clinics in Surgery™ (Impact Factor-1.995)*, ID: []\n",
      "Subject: Beschaeftigten-Verteiler: Hochschuldidaktische Angebote für Lehrende der TU Dresden// Offers in Teaching and Learning in Higher Education for TU Dresden Lecturers, ID: []\n",
      "Subject: Rapid publishing is possible with our journal - MCCRJ, ID: []\n",
      "Subject: We are Eagerly Waiting for your Current/Upcoming Research Work: Annals of Infertility and Reproductive Endocrinology(ISSN 2638-356X), ID: []\n"
     ]
    }
   ],
   "source": [
    "#| notest\n",
    "\n",
    "USERNAME = os.environ.get(\"EXCHANGE_USER\")\n",
    "PASSWORD = os.environ.get(\"EXCHANGE_PASSWORD\")\n",
    "\n",
    "# Usage example\n",
    "email_client = EmailClient(\"msx.tu-dresden.de\", 993, USERNAME, PASSWORD)\n",
    "\n",
    "# Fetch emails since a specific date\n",
    "since_date = datetime(2023, 9, 25)  # Replace with actual date\n",
    "emails = email_client.get_emails(from_folder = \"inbox\", since_date=since_date, fetch_body = False)\n",
    "\n",
    "# Print and move emails\n",
    "for e in emails:\n",
    "    print(f\"Subject: {e.subject}, ID: {e.bcc}\")\n",
    "    #email_client.move_email(e, 'Review')\n",
    "\n",
    "# Logout to close the connection\n",
    "email_client.logout()"
   ]
  },
  {
   "cell_type": "code",
   "execution_count": null,
   "metadata": {},
   "outputs": [
    {
     "ename": "IndentationError",
     "evalue": "expected an indented block after function definition on line 5 (<unknown>, line 6)",
     "output_type": "error",
     "traceback": [
      "Traceback \u001b[0;36m(most recent call last)\u001b[0m:\n",
      "\u001b[0m  File \u001b[1;32m~/opt/miniconda3/envs/email_filter/lib/python3.11/site-packages/IPython/core/interactiveshell.py:3526\u001b[0m in \u001b[1;35mrun_code\u001b[0m\n    exec(code_obj, self.user_global_ns, self.user_ns)\u001b[0m\n",
      "\u001b[0m  Cell \u001b[1;32mIn[7], line 2\u001b[0m\n    import nbdev; nbdev.nbdev_export()\u001b[0m\n",
      "\u001b[0m  File \u001b[1;32m~/opt/miniconda3/envs/email_filter/lib/python3.11/site-packages/fastcore/script.py:110\u001b[0m in \u001b[1;35m_f\u001b[0m\n    if not mod: return func(*args, **kwargs)\u001b[0m\n",
      "\u001b[0m  File \u001b[1;32m~/opt/miniconda3/envs/email_filter/lib/python3.11/site-packages/nbdev/doclinks.py:140\u001b[0m in \u001b[1;35mnbdev_export\u001b[0m\n    _build_modidx()\u001b[0m\n",
      "\u001b[0m  File \u001b[1;32m~/opt/miniconda3/envs/email_filter/lib/python3.11/site-packages/nbdev/doclinks.py:102\u001b[0m in \u001b[1;35m_build_modidx\u001b[0m\n    res['syms'].update(_get_modidx((dest.parent/file).resolve(), code_root, nbs_path=nbs_path))\u001b[0m\n",
      "\u001b[0m  File \u001b[1;32m~/opt/miniconda3/envs/email_filter/lib/python3.11/site-packages/nbdev/doclinks.py:79\u001b[0m in \u001b[1;35m_get_modidx\u001b[0m\n    for tree in ast.parse(cell.code).body:\u001b[0m\n",
      "\u001b[0;36m  File \u001b[0;32m~/opt/miniconda3/envs/email_filter/lib/python3.11/ast.py:50\u001b[0;36m in \u001b[0;35mparse\u001b[0;36m\n\u001b[0;31m    return compile(source, filename, mode, flags,\u001b[0;36m\n",
      "\u001b[0;36m  File \u001b[0;32m<unknown>:6\u001b[0;36m\u001b[0m\n\u001b[0;31m    \u001b[0m\n\u001b[0m    ^\u001b[0m\n\u001b[0;31mIndentationError\u001b[0m\u001b[0;31m:\u001b[0m expected an indented block after function definition on line 5\n"
     ]
    }
   ],
   "source": [
    "#| hide\n",
    "import nbdev; nbdev.nbdev_export()"
   ]
  }
 ],
 "metadata": {
  "kernelspec": {
   "display_name": "python3",
   "language": "python",
   "name": "python3"
  }
 },
 "nbformat": 4,
 "nbformat_minor": 4
}
