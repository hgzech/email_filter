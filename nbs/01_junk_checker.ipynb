{
 "cells": [
  {
   "cell_type": "markdown",
   "metadata": {},
   "source": [
    "# junk_checker\n",
    "\n",
    "> This module checks the domain_age of an email address\n",
    ">\n",
    "> TODO:\n",
    "> - Implement general update function (updates whitelist, filters, and resets last_update date)\n",
    "> - Implement group mail filter for trusted domains\n",
    "> - Implement chron-job\n",
    "> - Fix imprecisions:\n",
    ">     - Kuhn is in spam, OSF is in spam, slack is in spam"
   ]
  },
  {
   "cell_type": "code",
   "execution_count": null,
   "metadata": {},
   "outputs": [],
   "source": [
    "#| hide\n",
    "from nbdev.showdoc import *"
   ]
  },
  {
   "cell_type": "code",
   "execution_count": null,
   "metadata": {},
   "outputs": [],
   "source": [
    "#| default_exp junk_checker"
   ]
  },
  {
   "cell_type": "code",
   "execution_count": null,
   "metadata": {},
   "outputs": [],
   "source": [
    "#| export\n",
    "from email_filter.exchange import EmailClient, extract_domain\n",
    "import json\n",
    "from datetime import datetime\n",
    "import os"
   ]
  },
  {
   "cell_type": "code",
   "execution_count": null,
   "metadata": {},
   "outputs": [],
   "source": [
    "#| export\n",
    "\n",
    "import os\n",
    "import json\n",
    "\n",
    "class DataStorage:\n",
    "    def __init__(self, folder_path):\n",
    "        self.folder_path = folder_path\n",
    "        if not os.path.exists(folder_path):\n",
    "            os.makedirs(folder_path)\n",
    "\n",
    "    def _get_file_path(self, file_name):\n",
    "        return os.path.join(self.folder_path, file_name)\n",
    "\n",
    "    def _datetime_serializer(self, obj):\n",
    "        if isinstance(obj, datetime):\n",
    "            return obj.isoformat()\n",
    "        raise TypeError(\"Type not serializable\")\n",
    "\n",
    "    def _datetime_deserializer(self, dct):\n",
    "        for key, value in dct.items():\n",
    "            try:\n",
    "                dct[key] = datetime.fromisoformat(value)\n",
    "            except (TypeError, ValueError):\n",
    "                pass\n",
    "        return dct\n",
    "\n",
    "    def write_to_json(self, file_name, data):\n",
    "        file_path = self._get_file_path(file_name)\n",
    "        with open(file_path, 'w') as f:\n",
    "            json.dump(data, f, indent=2, default=self._datetime_serializer)\n",
    "\n",
    "    def read_from_json(self, file_name, default = None):\n",
    "        file_path = self._get_file_path(file_name)\n",
    "        if not os.path.exists(file_path):\n",
    "            return default\n",
    "        with open(file_path, 'r') as f:\n",
    "            return json.load(f, object_hook=self._datetime_deserializer)"
   ]
  },
  {
   "cell_type": "code",
   "execution_count": null,
   "metadata": {},
   "outputs": [],
   "source": [
    "#| export\n",
    "# TODO: Implement update function that updates whitelists, filters inbox, and refreshes last update file\n",
    "\n",
    "class JunkChecker:\n",
    "    def __init__(self, email_client, storage):\n",
    "        self.client = email_client\n",
    "\n",
    "    def get_last_update_date(self):\n",
    "        default = {\"updated\":datetime(2023, 9, 26)}\n",
    "        last_update = storage.read_from_json(\"last_update.json\",default = default)[\"updated\"]\n",
    "        return last_update\n",
    "\n",
    "    def store_last_update_date(self):\n",
    "        current_date = datetime.now().date()\n",
    "        last_update = storage.write_to_json(\"last_update.json\", {\"updated\":current_date})  \n",
    "\n",
    "    def filter_inbox(self):\n",
    "        last_update = self.get_last_update_date()\n",
    "        emails = email_client.get_emails(from_folder = \"Inbox\", since_date=last_update, fetch_body = False)\n",
    "        bad_emails = [e for e in emails if len(e.sender)]\n",
    "        bad_emails = [e for e in bad_emails if extract_domain(e.sender[0]) not in self.domain_whitelist]\n",
    "        for e in bad_emails:\n",
    "            email_client.move_email(e, 'Review')\n",
    "            \n",
    "\n",
    "    def update_whitelists(self):\n",
    "        last_update = self.get_last_update_date()\n",
    "        emails = email_client.get_emails(from_folder = \"Sent Items\", since_date=last_update, fetch_body = False)\n",
    "        addresses = [email.recipient + email.cc + email.bcc for email in emails]\n",
    "        addresses = list(set([a.lower() for alist in addresses for a in alist]))\n",
    "        domains = list(set([extract_domain(address) for address in addresses]))\n",
    "        old_addresses = storage.read_from_json(\"address_whitelist.json\", default = [])\n",
    "        old_domains = storage.read_from_json(\"domain_whitelist.json\", default = [])\n",
    "        addresses = list(set(old_addresses+addresses))\n",
    "        domains = list(set(old_domains+domains))\n",
    "        self.address_whitelist = addresses\n",
    "        self.domain_whitelist = domains\n",
    "        storage.write_to_json(\"address_whitelist.json\", addresses)\n",
    "        storage.write_to_json(\"domain_whitelist.json\", domains)"
   ]
  },
  {
   "cell_type": "code",
   "execution_count": null,
   "metadata": {},
   "outputs": [],
   "source": [
    "#| notest\n",
    "\n",
    "USERNAME = os.environ.get(\"EXCHANGE_USER\")\n",
    "PASSWORD = os.environ.get(\"EXCHANGE_PASSWORD\")\n",
    "\n",
    "# Usage example\n",
    "email_client = EmailClient(\"msx.tu-dresden.de\", 993, USERNAME, PASSWORD)\n",
    "storage = DataStorage(\"../data\")\n",
    "\n",
    "junk_checker = JunkChecker(email_client, storage)\n",
    "junk_checker.update_whitelists()\n",
    "bad_emails = junk_checker.filter_inbox()\n",
    "email_client.logout()"
   ]
  },
  {
   "cell_type": "code",
   "execution_count": null,
   "metadata": {},
   "outputs": [],
   "source": [
    "#| hide\n",
    "import nbdev; nbdev.nbdev_export()"
   ]
  }
 ],
 "metadata": {
  "kernelspec": {
   "display_name": "python3",
   "language": "python",
   "name": "python3"
  }
 },
 "nbformat": 4,
 "nbformat_minor": 4
}
