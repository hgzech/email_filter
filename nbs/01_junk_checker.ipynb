{
 "cells": [
  {
   "cell_type": "markdown",
   "metadata": {},
   "source": [
    "# junk_checker\n",
    "\n",
    "> This module checks the domain_age of an email address"
   ]
  },
  {
   "cell_type": "code",
   "execution_count": null,
   "metadata": {},
   "outputs": [],
   "source": [
    "#| hide\n",
    "from nbdev.showdoc import *"
   ]
  },
  {
   "cell_type": "code",
   "execution_count": null,
   "metadata": {},
   "outputs": [],
   "source": [
    "#| default_exp junk_checker"
   ]
  },
  {
   "cell_type": "code",
   "execution_count": null,
   "metadata": {},
   "outputs": [],
   "source": [
    "#| export\n",
    "from email_filter.exchange import EmailClient, extract_domain\n",
    "import json\n",
    "from datetime import datetime\n",
    "import os"
   ]
  },
  {
   "cell_type": "code",
   "execution_count": null,
   "metadata": {},
   "outputs": [
    {
     "data": {
      "text/plain": [
       "'23/09/21 00:00:00'"
      ]
     },
     "execution_count": null,
     "metadata": {},
     "output_type": "execute_result"
    }
   ],
   "source": [
    "datetime(2023, 9, 21).strftime('%y/%m/%d %H:%M:%S')"
   ]
  },
  {
   "cell_type": "code",
   "execution_count": null,
   "metadata": {},
   "outputs": [
    {
     "data": {
      "text/plain": [
       "datetime.datetime(2023, 9, 21, 0, 0)"
      ]
     },
     "execution_count": null,
     "metadata": {},
     "output_type": "execute_result"
    }
   ],
   "source": [
    "datetime.strptime('23/09/21 00:00:00','%y/%m/%d %H:%M:%S')"
   ]
  },
  {
   "cell_type": "code",
   "execution_count": null,
   "metadata": {},
   "outputs": [],
   "source": [
    "#| export\n",
    "\n",
    "import os\n",
    "import json\n",
    "\n",
    "class DataStorage:\n",
    "    def __init__(self, folder_path):\n",
    "        self.folder_path = folder_path\n",
    "        if not os.path.exists(folder_path):\n",
    "            os.makedirs(folder_path)\n",
    "    \n",
    "    def _get_file_path(self, file_name):\n",
    "        return os.path.join(self.folder_path, file_name)\n",
    "    \n",
    "    def write_to_json(self, file_name, data):\n",
    "        file_path = self._get_file_path(file_name)\n",
    "        with open(file_path, 'w') as f:\n",
    "            json.dump(data, f, indent = 2)\n",
    "    \n",
    "    def read_from_json(self, file_name):\n",
    "        file_path = self._get_file_path(file_name)\n",
    "        if not os.path.exists(file_path):\n",
    "            return None\n",
    "        with open(file_path, 'r') as f:\n",
    "            return json.load(f)\n",
    "    \n",
    "\n",
    "\n"
   ]
  },
  {
   "cell_type": "code",
   "execution_count": null,
   "metadata": {},
   "outputs": [],
   "source": [
    "#| export\n",
    "class JunkChecker:\n",
    "    def __init__(self, email_client, storage):\n",
    "        self.client = email_client\n",
    "\n",
    "    def get_last_update_date(self):\n",
    "        last_update = storage.read_from_json(\"last_update.json\")\n",
    "        if not last_update:\n",
    "            last_update = datetime(2020, 7, 1)\n",
    "        return last_update\n",
    "\n",
    "    def update_whitelists(self):\n",
    "        last_update = self.get_last_update_date()\n",
    "        emails = email_client.get_emails(from_folder = \"Sent Items\", since_date=last_update, fetch_body = False)\n",
    "        addresses = [email.recipient + email.cc + email.bcc for email in emails]\n",
    "        addresses = list(set([a.lower() for alist in addresses for a in alist]))\n",
    "        domains = list(set([extract_domain(address) for address in addresses]))\n",
    "        storage.write_to_json(\"address_whitelist.json\", addresses)\n",
    "        storage.write_to_json(\"domain_whitelist.json\", domains)\n",
    "        \n",
    "        "
   ]
  },
  {
   "cell_type": "code",
   "execution_count": null,
   "metadata": {},
   "outputs": [],
   "source": [
    "#| notest\n",
    "\n",
    "USERNAME = os.environ.get(\"EXCHANGE_USER\")\n",
    "PASSWORD = os.environ.get(\"EXCHANGE_PASSWORD\")\n",
    "\n",
    "# Usage example\n",
    "email_client = EmailClient(\"msx.tu-dresden.de\", 993, USERNAME, PASSWORD)\n",
    "storage = DataStorage(\"../data\")\n",
    "junk_checker = JunkChecker(email_client, storage)\n",
    "junk_checker.update_whitelists()\n"
   ]
  }
 ],
 "metadata": {
  "kernelspec": {
   "display_name": "python3",
   "language": "python",
   "name": "python3"
  }
 },
 "nbformat": 4,
 "nbformat_minor": 4
}
