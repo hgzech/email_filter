{
 "cells": [
  {
   "cell_type": "markdown",
   "metadata": {},
   "source": [
    "# junk_checker\n",
    "\n",
    "> This module checks the domain_age of an email address"
   ]
  },
  {
   "cell_type": "code",
   "execution_count": null,
   "metadata": {},
   "outputs": [],
   "source": [
    "# These are emails from the last year that I have answered to. They are by definition good.\n",
    "with open('../good_emails.txt', 'r') as f:\n",
    "    good_emails = f.read().split(', ')"
   ]
  },
  {
   "cell_type": "code",
   "execution_count": null,
   "metadata": {},
   "outputs": [],
   "source": [
    "#| hide\n",
    "from nbdev.showdoc import *"
   ]
  },
  {
   "cell_type": "code",
   "execution_count": null,
   "metadata": {},
   "outputs": [],
   "source": [
    "#| export\n",
    "import whois\n",
    "from datetime import datetime\n",
    "import tldextract"
   ]
  },
  {
   "cell_type": "code",
   "execution_count": null,
   "metadata": {},
   "outputs": [],
   "source": [
    "#| export\n",
    "def extract_domain(email):\n",
    "    domain = email.split('@')[1]\n",
    "    # Extract main domain from subdomain\n",
    "    main_domain = tldextract.extract(domain)\n",
    "    return f\"{main_domain.domain}.{main_domain.suffix}\""
   ]
  },
  {
   "cell_type": "code",
   "execution_count": null,
   "metadata": {},
   "outputs": [],
   "source": [
    "#| export\n",
    "# This function gets the domain age. It's less useful than expected as not all domains reveal their age on whois. Nevertheless, it could be used to remove emails whose creation date is very young\n",
    "def get_domain_age(email):\n",
    "    domain = extract_domain(email)\n",
    "    try:\n",
    "        w = whois.whois(domain)\n",
    "        creation_date = w.creation_date[0] if isinstance(w.creation_date, list) else w.creation_date\n",
    "        #if creation_date == None:\n",
    "        #    creation_date = w.updated_date[0] if isinstance(w.updated_date, list) else w.updated_date\n",
    "        if creation_date:\n",
    "            domain_age = (datetime.now() - creation_date).days\n",
    "            return domain_age/365\n",
    "        else:\n",
    "            return None\n",
    "    except Exception as e:\n",
    "        return str(e)"
   ]
  },
  {
   "cell_type": "code",
   "execution_count": null,
   "metadata": {},
   "outputs": [
    {
     "data": {
      "text/plain": [
       "2.213698630136986"
      ]
     },
     "execution_count": null,
     "metadata": {},
     "output_type": "execute_result"
    }
   ],
   "source": [
    "get_domain_age(\"test@cognition-behaviour.com\")"
   ]
  },
  {
   "cell_type": "code",
   "execution_count": null,
   "metadata": {},
   "outputs": [],
   "source": [
    "#| export\n",
    "def check_domain_age(email):\n",
    "    domain = extract_domain(email)\n",
    "    age_in_years = get_domain_age(domain)\n",
    "    return age_in_years"
   ]
  },
  {
   "cell_type": "code",
   "execution_count": null,
   "metadata": {},
   "outputs": [
    {
     "name": "stdout",
     "output_type": "stream",
     "text": [
      "tu-dresden.de\n",
      "Error trying to connect to socket: closing socket - [Errno 8] nodename nor servname provided, or not known\n"
     ]
    }
   ],
   "source": [
    "check_domain_age(\"hilmar.zech@tu-dresden.de\")"
   ]
  },
  {
   "cell_type": "code",
   "execution_count": null,
   "metadata": {},
   "outputs": [
    {
     "data": {
      "text/plain": [
       "{'domain_name': ['COGNITION-BEHAVIOUR.COM', 'cognition-behaviour.com'],\n",
       " 'registrar': 'GoDaddy.com, LLC',\n",
       " 'whois_server': 'whois.godaddy.com',\n",
       " 'referral_url': None,\n",
       " 'updated_date': [datetime.datetime(2023, 7, 3, 5, 8, 52),\n",
       "  datetime.datetime(2023, 7, 3, 0, 8, 50)],\n",
       " 'creation_date': [datetime.datetime(2021, 7, 7, 9, 36, 53),\n",
       "  datetime.datetime(2021, 7, 7, 4, 36, 53)],\n",
       " 'expiration_date': [datetime.datetime(2024, 7, 7, 9, 36, 53),\n",
       "  datetime.datetime(2024, 7, 7, 4, 36, 53)],\n",
       " 'name_servers': ['NS41.DOMAINCONTROL.COM', 'NS42.DOMAINCONTROL.COM'],\n",
       " 'status': ['clientDeleteProhibited https://icann.org/epp#clientDeleteProhibited',\n",
       "  'clientRenewProhibited https://icann.org/epp#clientRenewProhibited',\n",
       "  'clientTransferProhibited https://icann.org/epp#clientTransferProhibited',\n",
       "  'clientUpdateProhibited https://icann.org/epp#clientUpdateProhibited'],\n",
       " 'emails': 'abuse@godaddy.com',\n",
       " 'dnssec': 'unsigned',\n",
       " 'name': 'Registration Private',\n",
       " 'org': 'Domains By Proxy, LLC',\n",
       " 'address': ['DomainsByProxy.com', '2155 E Warner Rd'],\n",
       " 'city': 'Tempe',\n",
       " 'state': 'Arizona',\n",
       " 'registrant_postal_code': '85284',\n",
       " 'country': 'US'}"
      ]
     },
     "execution_count": null,
     "metadata": {},
     "output_type": "execute_result"
    }
   ],
   "source": [
    "whois.whois(\"cognition-behaviour.com\")"
   ]
  },
  {
   "cell_type": "code",
   "execution_count": null,
   "metadata": {},
   "outputs": [
    {
     "data": {
      "text/plain": [
       "{'domain_name': 'ukw.de',\n",
       " 'status': 'connect',\n",
       " 'updated_date': datetime.datetime(2022, 1, 25, 14, 26, 42),\n",
       " 'name': None,\n",
       " 'org': None,\n",
       " 'address': None,\n",
       " 'registrant_postal_code': None,\n",
       " 'city': None,\n",
       " 'country_code': None,\n",
       " 'phone': None,\n",
       " 'fax': None,\n",
       " 'name_servers': ['dns-1.dfn.de', 'dns-3.dfn.de'],\n",
       " 'emails': None}"
      ]
     },
     "execution_count": null,
     "metadata": {},
     "output_type": "execute_result"
    }
   ],
   "source": [
    "whois.whois(\"ukw.de\")"
   ]
  },
  {
   "cell_type": "code",
   "execution_count": null,
   "metadata": {},
   "outputs": [
    {
     "data": {
      "text/plain": [
       "{'domain_name': 'tu-dresden.de',\n",
       " 'status': 'connect',\n",
       " 'updated_date': datetime.datetime(2018, 1, 15, 17, 13, 51),\n",
       " 'name': None,\n",
       " 'org': None,\n",
       " 'address': None,\n",
       " 'registrant_postal_code': None,\n",
       " 'city': None,\n",
       " 'country_code': None,\n",
       " 'phone': None,\n",
       " 'fax': None,\n",
       " 'name_servers': ['adns1.zih.tu-dresden.de 141.30.67.53',\n",
       "  'adns2.zih.tu-dresden.de 141.76.32.53',\n",
       "  'dns-1.dfn.de',\n",
       "  'dns-3.dfn.de'],\n",
       " 'emails': None}"
      ]
     },
     "execution_count": null,
     "metadata": {},
     "output_type": "execute_result"
    }
   ],
   "source": [
    "whois.whois(\"tu-dresden.de\")"
   ]
  },
  {
   "cell_type": "code",
   "execution_count": null,
   "metadata": {},
   "outputs": [
    {
     "data": {
      "text/plain": [
       "{'domain_name': 'leidenuniv.nl',\n",
       " 'expiration_date': None,\n",
       " 'updated_date': datetime.datetime(2023, 6, 29, 0, 0),\n",
       " 'creation_date': datetime.datetime(1988, 10, 27, 0, 0),\n",
       " 'status': 'active',\n",
       " 'registrar': 'team.blue nl B.V.',\n",
       " 'registrar_address': 'Vondellaan 47',\n",
       " 'registrar_postal_code': '2332AA',\n",
       " 'registrar_city': 'Leiden',\n",
       " 'registrar_country': 'Netherlands',\n",
       " 'dnssec': 'yes',\n",
       " 'name_servers': ['ns1.surfnet.nl', 'ns2.surfnet.nl', 'ns3.surfnet.nl']}"
      ]
     },
     "execution_count": null,
     "metadata": {},
     "output_type": "execute_result"
    }
   ],
   "source": [
    "whois.whois(\"fsw.leidenuniv.nl\")"
   ]
  },
  {
   "cell_type": "code",
   "execution_count": null,
   "metadata": {},
   "outputs": [
    {
     "data": {
      "text/plain": [
       "True"
      ]
     },
     "execution_count": null,
     "metadata": {},
     "output_type": "execute_result"
    }
   ],
   "source": [
    "#| export\n",
    "def likely_spam(email):\n",
    "    return check_domain_age(email)<3\n",
    "likely_spam(\"jack_nathan@cognition-behaviour.com\")"
   ]
  },
  {
   "cell_type": "code",
   "execution_count": null,
   "metadata": {},
   "outputs": [
    {
     "data": {
      "text/plain": [
       "False"
      ]
     },
     "execution_count": null,
     "metadata": {},
     "output_type": "execute_result"
    }
   ],
   "source": [
    "likely_spam(\"jack_nathan@cognition-behaviour.com\")"
   ]
  },
  {
   "cell_type": "markdown",
   "metadata": {},
   "source": [
    "## Testing"
   ]
  },
  {
   "cell_type": "code",
   "execution_count": null,
   "metadata": {},
   "outputs": [],
   "source": [
    "#| export\n",
    "import imaplib\n",
    "import email\n",
    "from email.header import decode_header\n",
    "from datetime import datetime\n",
    "import os"
   ]
  },
  {
   "cell_type": "code",
   "execution_count": null,
   "metadata": {},
   "outputs": [],
   "source": [
    "#| export\n",
    "class EmailObject:\n",
    "    def __init__(self, sender, subject, email_id):\n",
    "        self.sender = sender\n",
    "        self.subject = subject\n",
    "        self.email_id = email_id\n",
    "\n",
    "class EmailClient:\n",
    "    def __init__(self, server, port, username, password):\n",
    "        self.mail = imaplib.IMAP4_SSL(server, port)\n",
    "        self.mail.login(username, password)\n",
    "\n",
    "    def get_emails(self, since_date=None):\n",
    "        self.mail.select('\"Sent Items\"')\n",
    "        \n",
    "        if since_date:\n",
    "            since_date_str = since_date.strftime('%d-%b-%Y')\n",
    "            status, messages = self.mail.search(None, f'SINCE {since_date_str}')\n",
    "        else:\n",
    "            status, messages = self.mail.search(None, \"ALL\")\n",
    "            \n",
    "        email_ids = messages[0].split()\n",
    "        email_objects = []\n",
    "        \n",
    "        for e_id in email_ids:\n",
    "            status, msg_data = self.mail.fetch(e_id, \"(RFC822)\")\n",
    "            msg = email.message_from_bytes(msg_data[0][1])\n",
    "            \n",
    "            # Decode subject\n",
    "            subject, encoding = decode_header(msg[\"Subject\"])[0]\n",
    "            if isinstance(subject, bytes):\n",
    "                subject = subject.decode(encoding if encoding else \"utf-8\")\n",
    "            \n",
    "            # Extract sender\n",
    "            sender = msg[\"To\"]\n",
    "            \n",
    "            # Create email object and add to list\n",
    "            email_objects.append(EmailObject(sender, subject, e_id))\n",
    "        \n",
    "        return email_objects\n",
    "\n",
    "\n",
    "    def logout(self):\n",
    "        self.mail.logout()"
   ]
  },
  {
   "cell_type": "code",
   "execution_count": null,
   "metadata": {},
   "outputs": [],
   "source": [
    "from email.utils import parseaddr"
   ]
  },
  {
   "cell_type": "code",
   "execution_count": null,
   "metadata": {},
   "outputs": [],
   "source": [
    "\n",
    "\n",
    "import ssl\n",
    "import OpenSSL\n",
    "def check_new(mail):\n",
    "    \n",
    "    try:\n",
    "        domain = mail.split('@')[1]\n",
    "        domain = extract_main_domain(domain)\n",
    "        cert = ssl.get_server_certificate((domain, 443))\n",
    "        x509 = OpenSSL.crypto.load_certificate(OpenSSL.crypto.FILETYPE_PEM, cert)\n",
    "        return False\n",
    "        #print(x509.get_notBefore().decode('utf-8'))\n",
    "\n",
    "    except:\n",
    "        return True"
   ]
  },
  {
   "cell_type": "code",
   "execution_count": null,
   "metadata": {},
   "outputs": [
    {
     "ename": "ConnectionRefusedError",
     "evalue": "[Errno 61] Connection refused",
     "output_type": "error",
     "traceback": [
      "\u001b[0;31m---------------------------------------------------------------------------\u001b[0m",
      "\u001b[0;31mConnectionRefusedError\u001b[0m                    Traceback (most recent call last)",
      "Cell \u001b[0;32mIn[100], line 1\u001b[0m\n\u001b[0;32m----> 1\u001b[0m \u001b[43mssl\u001b[49m\u001b[38;5;241;43m.\u001b[39;49m\u001b[43mget_server_certificate\u001b[49m\u001b[43m(\u001b[49m\u001b[43m(\u001b[49m\u001b[38;5;124;43m\"\u001b[39;49m\u001b[38;5;124;43mbham.ac.uk\u001b[39;49m\u001b[38;5;124;43m\"\u001b[39;49m\u001b[43m,\u001b[49m\u001b[43m \u001b[49m\u001b[38;5;241;43m443\u001b[39;49m\u001b[43m)\u001b[49m\u001b[43m)\u001b[49m\n",
      "File \u001b[0;32m~/opt/miniconda3/envs/email_filter/lib/python3.11/ssl.py:1560\u001b[0m, in \u001b[0;36mget_server_certificate\u001b[0;34m(addr, ssl_version, ca_certs, timeout)\u001b[0m\n\u001b[1;32m   1556\u001b[0m     cert_reqs \u001b[38;5;241m=\u001b[39m CERT_NONE\n\u001b[1;32m   1557\u001b[0m context \u001b[38;5;241m=\u001b[39m _create_stdlib_context(ssl_version,\n\u001b[1;32m   1558\u001b[0m                                  cert_reqs\u001b[38;5;241m=\u001b[39mcert_reqs,\n\u001b[1;32m   1559\u001b[0m                                  cafile\u001b[38;5;241m=\u001b[39mca_certs)\n\u001b[0;32m-> 1560\u001b[0m \u001b[38;5;28;01mwith\u001b[39;00m \u001b[43mcreate_connection\u001b[49m\u001b[43m(\u001b[49m\u001b[43maddr\u001b[49m\u001b[43m,\u001b[49m\u001b[43m \u001b[49m\u001b[43mtimeout\u001b[49m\u001b[38;5;241;43m=\u001b[39;49m\u001b[43mtimeout\u001b[49m\u001b[43m)\u001b[49m \u001b[38;5;28;01mas\u001b[39;00m sock:\n\u001b[1;32m   1561\u001b[0m     \u001b[38;5;28;01mwith\u001b[39;00m context\u001b[38;5;241m.\u001b[39mwrap_socket(sock, server_hostname\u001b[38;5;241m=\u001b[39mhost) \u001b[38;5;28;01mas\u001b[39;00m sslsock:\n\u001b[1;32m   1562\u001b[0m         dercert \u001b[38;5;241m=\u001b[39m sslsock\u001b[38;5;241m.\u001b[39mgetpeercert(\u001b[38;5;28;01mTrue\u001b[39;00m)\n",
      "File \u001b[0;32m~/opt/miniconda3/envs/email_filter/lib/python3.11/socket.py:851\u001b[0m, in \u001b[0;36mcreate_connection\u001b[0;34m(address, timeout, source_address, all_errors)\u001b[0m\n\u001b[1;32m    849\u001b[0m \u001b[38;5;28;01mtry\u001b[39;00m:\n\u001b[1;32m    850\u001b[0m     \u001b[38;5;28;01mif\u001b[39;00m \u001b[38;5;129;01mnot\u001b[39;00m all_errors:\n\u001b[0;32m--> 851\u001b[0m         \u001b[38;5;28;01mraise\u001b[39;00m exceptions[\u001b[38;5;241m0\u001b[39m]\n\u001b[1;32m    852\u001b[0m     \u001b[38;5;28;01mraise\u001b[39;00m ExceptionGroup(\u001b[38;5;124m\"\u001b[39m\u001b[38;5;124mcreate_connection failed\u001b[39m\u001b[38;5;124m\"\u001b[39m, exceptions)\n\u001b[1;32m    853\u001b[0m \u001b[38;5;28;01mfinally\u001b[39;00m:\n\u001b[1;32m    854\u001b[0m     \u001b[38;5;66;03m# Break explicitly a reference cycle\u001b[39;00m\n",
      "File \u001b[0;32m~/opt/miniconda3/envs/email_filter/lib/python3.11/socket.py:836\u001b[0m, in \u001b[0;36mcreate_connection\u001b[0;34m(address, timeout, source_address, all_errors)\u001b[0m\n\u001b[1;32m    834\u001b[0m \u001b[38;5;28;01mif\u001b[39;00m source_address:\n\u001b[1;32m    835\u001b[0m     sock\u001b[38;5;241m.\u001b[39mbind(source_address)\n\u001b[0;32m--> 836\u001b[0m \u001b[43msock\u001b[49m\u001b[38;5;241;43m.\u001b[39;49m\u001b[43mconnect\u001b[49m\u001b[43m(\u001b[49m\u001b[43msa\u001b[49m\u001b[43m)\u001b[49m\n\u001b[1;32m    837\u001b[0m \u001b[38;5;66;03m# Break explicitly a reference cycle\u001b[39;00m\n\u001b[1;32m    838\u001b[0m exceptions\u001b[38;5;241m.\u001b[39mclear()\n",
      "\u001b[0;31mConnectionRefusedError\u001b[0m: [Errno 61] Connection refused"
     ]
    }
   ],
   "source": [
    "ssl.get_server_certificate((\"bham.ac.uk\", 443))"
   ]
  },
  {
   "cell_type": "code",
   "execution_count": null,
   "metadata": {},
   "outputs": [
    {
     "data": {
      "text/plain": [
       "', justin.hachenberger@uni-bielefeld.de, OWOODSON@PARTNERS.ORG, morgenstern@ift-nord.de, anika.busch@stud-mail.uni-wuerzburg.de, julia.goestl1@tu-dresden.de, scholz_v@ukw.de, a.f.van.meer@fsw.leidenuniv.nl, Aster_H@ukw.de, Gregorova_K@ukw.de, bounce+unsubscribe_63a37d357b3c5879176835@expertsengage.org, Miriam.Sebold@th-ab.de, l.p.v.jacobs.2@umail.leidenuniv.nl, WenzelJ@rki.de, johannes.steffen@tu-dresden.de, Waltmann_M@ukw.de, burhan.ok@ub.ac.id, Tina.Waschke@zi-mannheim.de, XGE.Coverage@apa.org, poststelle-wue@lff.bayern.de, timpm@udel.edu, zech_h@ukw.de, dillenlfvan@fsw.leidenuniv.nl, sophie.richter5@tu-dresden.de, Bernd.Lenz@zi-mannheim.de, hans_benedikt.wolf@tu-dresden.de, CRetzlaff@apa.org, marco.meixner@tu-dresden.de, chris.payne@quantum-soup.com, n.kurtenbach@fsw.leidenuniv.nl, lottevandillen@gmail.com, l.zhang.13@bham.ac.uk, Bjoern.Gerlach@zi-mannheim.de, melanie.klapprott@uni-oldenburg.de, gianna.spitta@charite.de, d.s.veldhuijzen@fsw.leidenuniv.nl, a.skvortsova@fsw.leidenuniv.nl, valentina.cardi@unipd.it, marvin.ganz@zi-mannheim.de, mareike.roettger@stud.sbg.ac.at, Philipp_C@ukw.de, theresa.geithel@tu-dresden.de, A.J.Jones@ljmu.ac.uk, Jasmin.S.Kaese@uni-bayreuth.de, sia.ivova_hranova@tu-dresden.de, annidittrich@t-online.de, anton.wolter@tu-dresden.de, Maik.Spreer@uniklinikum-dresden.de, clarissa.grundmann@tu-dresden.de, fabian.schneider@mailbox.tu-dresden.de, Christian.Stuetz@uni-bayreuth.de, dominic.reichert@ruhr-uni-bochum.de, sophie@artinis.com, tanja.endrass@tu-dresden.de, sebastian.von.mammen@uni-wuerzburg.de, Christian.Beste@ukdd.de, sarah.schwoebel@tu-dresden.de, mw@gentletroll.com, irina.baskow@charite.de, Scholz_V@ukw.de, Maximilian.Pilhatsch@ukdd.de, lorenz.deserno@tu-dresden.de, neil@whitebat.co.uk, 1axcw14lvvo21r4ihvrx6y2e5z9e52qj4mirsk@bf05x.hubspotemail.net, veronika.wetzlich@tu-dresden.de, shuyan.liu@charite.de, willi.hieke@tu-dresden.de, info@kopieteam.de, Markus.Reichert@ruhr-uni-bochum.de, melissa.halil@charite.de, michael.marxen@tu-dresden.de, marco.bottino@tu-dresden.de, unsubscribe@sa49.scsend.com, eran.eldar@mail.huji.ac.il, binnendijkc@FSW.leidenuniv.nl, Charline.Montemayor@straive.com, shereen_caroline.qedra@tu-dresden.de, speegle.jepg@gmail.com, anna_momo_samira.wildenauer@tu-dresden.de, sercan.kahveci@plus.ac.at, dijkwvan@fsw.leidenuniv.nl, GS-Office@fsw.leidenuniv.nl, wiko-psychiatrie-ccm@charite.de, Dominic.Reichert@ruhr-uni-bochum.de, Sauter_C@ukw.de, organisation@pug2023.de, rlatpdud303030@gmail.com, maria.garbusow@charite.de, juliane.froehner@gmx.net, servicedesk@tu-dresden.de, bounce+unsubscribe_64c0018183cde569558222@renownedspeakers.com, apajournals@novatechset.com, max.pilhatsch@uniklinikum-dresden.de, benjamin_pietsch@gmx.de, a.d.nieuwenhuizen@fsw.leidenuniv.nl, eckhart.schulz@tu-dresden.de, Hoehn_U@ukw.de, info@xon-eeg.com, alon.erdman@mail.huji.ac.il, enrico.collantoni@unipd.it, hao.chen@tu-dresden.de, l.p.hilbert@fsw.leidenuniv.nl, lieneke.janssen@gmail.com, bengisu.cetinkaya@stud-mail.uni-wuerzburg.de, marina.lukezic@tu-dresden.de, yuliya.kovalchuk@charite.de, wolfgang.sommer@zi-mannheim.de, MKUHN@MCLEAN.HARVARD.EDU, Maria.Seidel@ukdd.de, sabrina.doerr@charite.de, informationssicherheit@tu-dresden.de, stenner@nicht.dienstli.ch, skaluza@ant-neuro.com, christina.matussek@tu-dresden.de, anna-lena.luenert@tu-dresden.de, jens.strehle@tu-dresden.de, mbonner@apa.org, maximilian.pilhatsch@tu-dresden.de, journals@psychonomic.org, Aylin.Mehren@ukbonn.de, poststelle@fa-dresden-sued.smf.sachsen.de, ana.jolic@mbraintrain.com, rika.gross9@kit.edu, johannes.petzold@tu-dresden.de, carmen.moebus@lsf.smf.sachsen.de, sascha.froelich@tu-dresden.de, waltmann@cbs.mpg.de, Koziol_A@ukw.de, klodato@gmail.com, mario.graf@tu-dresden.de, OWOODSON@partners.org, Reindel_D@ukw.de, hilmar.zech@tu-dresden.de, elizabeth.kitt@yale.edu, matthias.aulbach@plus.ac.at, kerstin.schlese@tu-dresden.de, Ali.Ghadami@zi-mannheim.de, meervanfloor@gmail.com, michael.smolka@tu-dresden.de, stefan.fries@uni-bielefeld.de, mfalkenstein@mclean.harvard.edu, MFALKENSTEIN@MCLEAN.HARVARD.EDU, matthew.belanger@tu-dresden.de, pietsch@ift-nord.de, thomas.goschke@tu-dresden.de, pssc-servicepunt@assc.leidenuniv.nl, umberto.granziol@unipd.it, sales@openbci.com, pagable@udel.edu, KJ_Direktion@ukw.de, Elisabeth.Wolf@uni-bayreuth.de, GS-Office@FSW.leidenuniv.nl, f.fedeli8@campus.unimib.it, LasseDavid.Schmidt@uksh.de, Jens.Blechert@plus.ac.at, Sabrina.Kliemke@lsf.smf.sachsen.de, pagable@gmail.com, samuel.day@bnc.ox.ac.uk, jorge.lopez@bitbrain.es, Deserno_L@ukw.de, sakari.lemola@uni-bielefeld.de, Marvin.Ganz@zi-mannheim.de, Dayana.Barth@ukdd.de, brian@cumulusneuro.com, friederike.deeken@uni-potsdam.de, charlotte.grosskopf@tu-dresden.de, Maximilian.Pilhatsch@uniklinikum-dresden.de, j.petzold@posteo.de'"
      ]
     },
     "execution_count": null,
     "metadata": {},
     "output_type": "execute_result"
    }
   ],
   "source": [
    "', '.join(good_emails)"
   ]
  },
  {
   "cell_type": "code",
   "execution_count": null,
   "metadata": {},
   "outputs": [
    {
     "name": "stdout",
     "output_type": "stream",
     "text": [
      "['', 'justin.hachenberger@uni-bielefeld.de', 'OWOODSON@PARTNERS.ORG', 'morgenstern@ift-nord.de', 'anika.busch@stud-mail.uni-wuerzburg.de', 'julia.goestl1@tu-dresden.de', 'scholz_v@ukw.de', 'a.f.van.meer@fsw.leidenuniv.nl', 'Aster_H@ukw.de', 'Gregorova_K@ukw.de', 'bounce+unsubscribe_63a37d357b3c5879176835@expertsengage.org', 'Miriam.Sebold@th-ab.de', 'l.p.v.jacobs.2@umail.leidenuniv.nl', 'WenzelJ@rki.de', 'johannes.steffen@tu-dresden.de', 'Waltmann_M@ukw.de', 'burhan.ok@ub.ac.id', 'Tina.Waschke@zi-mannheim.de', 'XGE.Coverage@apa.org', 'poststelle-wue@lff.bayern.de', 'timpm@udel.edu', 'zech_h@ukw.de', 'dillenlfvan@fsw.leidenuniv.nl', 'sophie.richter5@tu-dresden.de', 'Bernd.Lenz@zi-mannheim.de', 'hans_benedikt.wolf@tu-dresden.de', 'CRetzlaff@apa.org', 'marco.meixner@tu-dresden.de', 'chris.payne@quantum-soup.com', 'n.kurtenbach@fsw.leidenuniv.nl', 'lottevandillen@gmail.com', 'l.zhang.13@bham.ac.uk', 'Bjoern.Gerlach@zi-mannheim.de', 'melanie.klapprott@uni-oldenburg.de', 'gianna.spitta@charite.de', 'd.s.veldhuijzen@fsw.leidenuniv.nl', 'a.skvortsova@fsw.leidenuniv.nl', 'valentina.cardi@unipd.it', 'marvin.ganz@zi-mannheim.de', 'mareike.roettger@stud.sbg.ac.at', 'Philipp_C@ukw.de', 'theresa.geithel@tu-dresden.de', 'A.J.Jones@ljmu.ac.uk', 'Jasmin.S.Kaese@uni-bayreuth.de', 'sia.ivova_hranova@tu-dresden.de', 'annidittrich@t-online.de', 'anton.wolter@tu-dresden.de', 'Maik.Spreer@uniklinikum-dresden.de', 'clarissa.grundmann@tu-dresden.de', 'fabian.schneider@mailbox.tu-dresden.de', 'Christian.Stuetz@uni-bayreuth.de', 'dominic.reichert@ruhr-uni-bochum.de', 'sophie@artinis.com', 'tanja.endrass@tu-dresden.de', 'sebastian.von.mammen@uni-wuerzburg.de', 'Christian.Beste@ukdd.de', 'sarah.schwoebel@tu-dresden.de', 'mw@gentletroll.com', 'irina.baskow@charite.de', 'Scholz_V@ukw.de', 'Maximilian.Pilhatsch@ukdd.de', 'lorenz.deserno@tu-dresden.de', 'neil@whitebat.co.uk', '1axcw14lvvo21r4ihvrx6y2e5z9e52qj4mirsk@bf05x.hubspotemail.net', 'veronika.wetzlich@tu-dresden.de', 'shuyan.liu@charite.de', 'willi.hieke@tu-dresden.de', 'info@kopieteam.de', 'Markus.Reichert@ruhr-uni-bochum.de', 'melissa.halil@charite.de', 'michael.marxen@tu-dresden.de', 'marco.bottino@tu-dresden.de', 'unsubscribe@sa49.scsend.com', 'eran.eldar@mail.huji.ac.il', 'binnendijkc@FSW.leidenuniv.nl', 'Charline.Montemayor@straive.com', 'shereen_caroline.qedra@tu-dresden.de', 'speegle.jepg@gmail.com', 'anna_momo_samira.wildenauer@tu-dresden.de', 'sercan.kahveci@plus.ac.at', 'dijkwvan@fsw.leidenuniv.nl', 'GS-Office@fsw.leidenuniv.nl', 'wiko-psychiatrie-ccm@charite.de', 'Dominic.Reichert@ruhr-uni-bochum.de', 'Sauter_C@ukw.de', 'organisation@pug2023.de', 'rlatpdud303030@gmail.com', 'maria.garbusow@charite.de', 'juliane.froehner@gmx.net', 'servicedesk@tu-dresden.de', 'bounce+unsubscribe_64c0018183cde569558222@renownedspeakers.com', 'apajournals@novatechset.com', 'max.pilhatsch@uniklinikum-dresden.de', 'benjamin_pietsch@gmx.de', 'a.d.nieuwenhuizen@fsw.leidenuniv.nl', 'eckhart.schulz@tu-dresden.de', 'Hoehn_U@ukw.de', 'info@xon-eeg.com', 'alon.erdman@mail.huji.ac.il', 'enrico.collantoni@unipd.it', 'hao.chen@tu-dresden.de', 'l.p.hilbert@fsw.leidenuniv.nl', 'lieneke.janssen@gmail.com', 'bengisu.cetinkaya@stud-mail.uni-wuerzburg.de', 'marina.lukezic@tu-dresden.de', 'yuliya.kovalchuk@charite.de', 'wolfgang.sommer@zi-mannheim.de', 'MKUHN@MCLEAN.HARVARD.EDU', 'Maria.Seidel@ukdd.de', 'sabrina.doerr@charite.de', 'informationssicherheit@tu-dresden.de', 'stenner@nicht.dienstli.ch', 'skaluza@ant-neuro.com', 'christina.matussek@tu-dresden.de', 'anna-lena.luenert@tu-dresden.de', 'jens.strehle@tu-dresden.de', 'mbonner@apa.org', 'maximilian.pilhatsch@tu-dresden.de', 'journals@psychonomic.org', 'Aylin.Mehren@ukbonn.de', 'poststelle@fa-dresden-sued.smf.sachsen.de', 'ana.jolic@mbraintrain.com', 'rika.gross9@kit.edu', 'johannes.petzold@tu-dresden.de', 'carmen.moebus@lsf.smf.sachsen.de', 'sascha.froelich@tu-dresden.de', 'waltmann@cbs.mpg.de', 'Koziol_A@ukw.de', 'klodato@gmail.com', 'mario.graf@tu-dresden.de', 'OWOODSON@partners.org', 'Reindel_D@ukw.de', 'hilmar.zech@tu-dresden.de', 'elizabeth.kitt@yale.edu', 'matthias.aulbach@plus.ac.at', 'kerstin.schlese@tu-dresden.de', 'Ali.Ghadami@zi-mannheim.de', 'meervanfloor@gmail.com', 'michael.smolka@tu-dresden.de', 'stefan.fries@uni-bielefeld.de', 'mfalkenstein@mclean.harvard.edu', 'MFALKENSTEIN@MCLEAN.HARVARD.EDU', 'matthew.belanger@tu-dresden.de', 'pietsch@ift-nord.de', 'thomas.goschke@tu-dresden.de', 'pssc-servicepunt@assc.leidenuniv.nl', 'umberto.granziol@unipd.it', 'sales@openbci.com', 'pagable@udel.edu', 'KJ_Direktion@ukw.de', 'Elisabeth.Wolf@uni-bayreuth.de', 'GS-Office@FSW.leidenuniv.nl', 'f.fedeli8@campus.unimib.it', 'LasseDavid.Schmidt@uksh.de', 'Jens.Blechert@plus.ac.at', 'Sabrina.Kliemke@lsf.smf.sachsen.de', 'pagable@gmail.com', 'samuel.day@bnc.ox.ac.uk', 'jorge.lopez@bitbrain.es', 'Deserno_L@ukw.de', 'sakari.lemola@uni-bielefeld.de', 'Marvin.Ganz@zi-mannheim.de', 'Dayana.Barth@ukdd.de', 'brian@cumulusneuro.com', 'friederike.deeken@uni-potsdam.de', 'charlotte.grosskopf@tu-dresden.de', 'Maximilian.Pilhatsch@uniklinikum-dresden.de', 'j.petzold@posteo.de']\n"
     ]
    }
   ],
   "source": [
    "#| notest\n",
    "\n",
    "USERNAME = os.environ.get(\"EXCHANGE_USER\")\n",
    "PASSWORD = os.environ.get(\"EXCHANGE_PASSWORD\")\n",
    "\n",
    "# Usage example\n",
    "email_client = EmailClient(\"msx.tu-dresden.de\", 993, USERNAME, PASSWORD)\n",
    "\n",
    "# Fetch emails since a specific date\n",
    "since_date = datetime(2022, 8, 22)  # Replace with actual date\n",
    "emails = email_client.get_emails(since_date=since_date)\n",
    "\n",
    "good_emails = []\n",
    "# Print and move emails\n",
    "for e in emails:\n",
    "    good_emails.append(parseaddr(e.sender)[1])\n",
    "\n",
    "# Logout to close the connection\n",
    "email_client.logout()\n",
    "\n",
    "good_emails = list(set(good_emails))\n",
    "print(good_emails)"
   ]
  },
  {
   "cell_type": "code",
   "execution_count": null,
   "metadata": {},
   "outputs": [],
   "source": [
    "updated_date"
   ]
  },
  {
   "cell_type": "code",
   "execution_count": null,
   "metadata": {},
   "outputs": [],
   "source": []
  },
  {
   "cell_type": "code",
   "execution_count": null,
   "metadata": {},
   "outputs": [
    {
     "name": "stdout",
     "output_type": "stream",
     "text": [
      "\n",
      "bounce+unsubscribe_63a37d357b3c5879176835@expertsengage.org\n",
      "chris.payne@quantum-soup.com\n",
      "l.zhang.13@bham.ac.uk\n",
      "mareike.roettger@stud.sbg.ac.at\n",
      "1axcw14lvvo21r4ihvrx6y2e5z9e52qj4mirsk@bf05x.hubspotemail.net\n",
      "info@kopieteam.de\n",
      "unsubscribe@sa49.scsend.com\n",
      "journals@psychonomic.org\n",
      "f.fedeli8@campus.unimib.it\n"
     ]
    }
   ],
   "source": [
    "for good in good_emails:\n",
    "    try:\n",
    "        if check_new(good)==True:\n",
    "            print(good)\n",
    "    except:\n",
    "        print(\"Failed: \"+good)"
   ]
  },
  {
   "cell_type": "code",
   "execution_count": null,
   "metadata": {},
   "outputs": [
    {
     "name": "stdout",
     "output_type": "stream",
     "text": [
      "Failed: \n",
      "justin.hachenberger@uni-bielefeld.de\n",
      "scholz_v@ukw.de\n",
      "Aster_H@ukw.de\n",
      "Gregorova_K@ukw.de\n",
      "bounce+unsubscribe_63a37d357b3c5879176835@expertsengage.org\n",
      "Miriam.Sebold@th-ab.de\n",
      "Waltmann_M@ukw.de\n",
      "Failed: timpm@udel.edu\n",
      "zech_h@ukw.de\n",
      "gianna.spitta@charite.de\n",
      "mareike.roettger@stud.sbg.ac.at\n",
      "Philipp_C@ukw.de\n",
      "annidittrich@t-online.de\n",
      "dominic.reichert@ruhr-uni-bochum.de\n",
      "irina.baskow@charite.de\n",
      "Scholz_V@ukw.de\n",
      "shuyan.liu@charite.de\n",
      "info@kopieteam.de\n",
      "Markus.Reichert@ruhr-uni-bochum.de\n",
      "melissa.halil@charite.de\n",
      "Failed: eran.eldar@mail.huji.ac.il\n",
      "sercan.kahveci@plus.ac.at\n",
      "wiko-psychiatrie-ccm@charite.de\n",
      "Dominic.Reichert@ruhr-uni-bochum.de\n",
      "Sauter_C@ukw.de\n",
      "organisation@pug2023.de\n",
      "maria.garbusow@charite.de\n",
      "bounce+unsubscribe_64c0018183cde569558222@renownedspeakers.com\n",
      "Hoehn_U@ukw.de\n",
      "info@xon-eeg.com\n",
      "Failed: alon.erdman@mail.huji.ac.il\n",
      "Failed: l.p.hilbert@fsw.leidenuniv.nl\n",
      "yuliya.kovalchuk@charite.de\n",
      "Failed: MKUHN@MCLEAN.HARVARD.EDU\n",
      "sabrina.doerr@charite.de\n",
      "Failed: stenner@nicht.dienstli.ch\n",
      "Failed: rika.gross9@kit.edu\n",
      "waltmann@cbs.mpg.de\n",
      "Koziol_A@ukw.de\n",
      "Reindel_D@ukw.de\n",
      "Failed: elizabeth.kitt@yale.edu\n",
      "matthias.aulbach@plus.ac.at\n",
      "stefan.fries@uni-bielefeld.de\n",
      "Failed: mfalkenstein@mclean.harvard.edu\n",
      "Failed: MFALKENSTEIN@MCLEAN.HARVARD.EDU\n",
      "Failed: pagable@udel.edu\n",
      "KJ_Direktion@ukw.de\n",
      "Failed: GS-Office@FSW.leidenuniv.nl\n",
      "LasseDavid.Schmidt@uksh.de\n",
      "Jens.Blechert@plus.ac.at\n",
      "Failed: jorge.lopez@bitbrain.es\n",
      "Deserno_L@ukw.de\n",
      "sakari.lemola@uni-bielefeld.de\n",
      "j.petzold@posteo.de\n"
     ]
    }
   ],
   "source": [
    "for good in good_emails:\n",
    "    try:\n",
    "        if likely_spam(good)==True:\n",
    "            print(good)\n",
    "    except:\n",
    "        print(\"Failed: \"+good)"
   ]
  },
  {
   "cell_type": "code",
   "execution_count": null,
   "metadata": {},
   "outputs": [],
   "source": [
    "#| hide\n",
    "import nbdev; nbdev.nbdev_export()"
   ]
  },
  {
   "cell_type": "code",
   "execution_count": null,
   "metadata": {},
   "outputs": [],
   "source": [
    "#| export\n",
    "class EmailObject:\n",
    "    def __init__(self, sender, subject, email_id):\n",
    "        self.sender = sender\n",
    "        self.subject = subject\n",
    "        self.email_id = email_id\n",
    "\n",
    "class EmailClient:\n",
    "    def __init__(self, server, port, username, password):\n",
    "        self.mail = imaplib.IMAP4_SSL(server, port)\n",
    "        self.mail.login(username, password)\n",
    "\n",
    "    def get_emails(self, since_date=None):\n",
    "        self.mail.select('\"Sent Items\"')\n",
    "        \n",
    "        if since_date:\n",
    "            since_date_str = since_date.strftime('%d-%b-%Y')\n",
    "            status, messages = self.mail.search(None, f'SINCE {since_date_str}')\n",
    "        else:\n",
    "            status, messages = self.mail.search(None, \"ALL\")\n",
    "            \n",
    "        email_ids = messages[0].split()\n",
    "        email_objects = []\n",
    "        \n",
    "        for e_id in email_ids:\n",
    "            status, msg_data = self.mail.fetch(e_id, \"(RFC822)\")\n",
    "            msg = email.message_from_bytes(msg_data[0][1])\n",
    "            \n",
    "            # Decode subject\n",
    "            subject, encoding = decode_header(msg[\"Subject\"])[0]\n",
    "            if isinstance(subject, bytes):\n",
    "                subject = subject.decode(encoding if encoding else \"utf-8\")\n",
    "            \n",
    "            # Extract sender\n",
    "            sender = msg[\"To\"]\n",
    "            \n",
    "            # Create email object and add to list\n",
    "            email_objects.append(EmailObject(sender, subject, e_id))\n",
    "        \n",
    "        return email_objects\n",
    "\n",
    "\n",
    "    def logout(self):\n",
    "        self.mail.logout()\n",
    "\n",
    "\n",
    "\n",
    "USERNAME = os.environ.get(\"EXCHANGE_USER\")\n",
    "PASSWORD = os.environ.get(\"EXCHANGE_PASSWORD\")\n",
    "\n",
    "# Usage example\n",
    "email_client = EmailClient(\"msx.tu-dresden.de\", 993, USERNAME, PASSWORD)\n",
    "\n",
    "# Fetch emails since a specific date\n",
    "since_date = datetime(2022, 8, 22)  # Replace with actual date\n",
    "emails = email_client.get_emails(since_date=since_date)\n",
    "\n",
    "good_emails = []\n",
    "# Print and move emails\n",
    "for e in emails:\n",
    "    good_emails.append(parseaddr(e.sender)[1])\n",
    "\n",
    "# Logout to close the connection\n",
    "email_client.logout()\n",
    "\n",
    "good_emails = list(set(good_emails))\n",
    "print(good_emails)"
   ]
  }
 ],
 "metadata": {
  "kernelspec": {
   "display_name": "python3",
   "language": "python",
   "name": "python3"
  }
 },
 "nbformat": 4,
 "nbformat_minor": 4
}
