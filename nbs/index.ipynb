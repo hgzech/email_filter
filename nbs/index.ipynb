{
 "cells": [
  {
   "cell_type": "code",
   "execution_count": null,
   "metadata": {},
   "outputs": [],
   "source": [
    "#| hide\n",
    "#from email_filter.junk_checker import *"
   ]
  },
  {
   "cell_type": "markdown",
   "metadata": {},
   "source": [
    "# email_filter\n",
    "\n",
    "> An app that filters academic junk (e.g. unsollicited journal invitations)."
   ]
  },
  {
   "cell_type": "markdown",
   "metadata": {},
   "source": [
    "## Overview\n",
    "This email filter works by extracting \"trusted domains\" from addresses that you've previously sent emails too. Based on these trusted domains, emails from your inbox are filtered.\n",
    "\n",
    "In future updates, the filter should also distinguish between trusted addresses and trusted domains, to only allow some (e.g., non newsletter) emails from trusted domains. The full idea of the filter can be seen below:"
   ]
  },
  {
   "cell_type": "markdown",
   "metadata": {},
   "source": [
    "```{mermaid}\n",
    "graph TD\n",
    "    Start[Fetch New Emails] --> CheckAddress[Check Address]\n",
    "    Start[Fetch New Emails] --> Update[Update trusted list based on new sent]\n",
    "    CheckAddress[Check Address] -->|\"trusted\\n(previous interaction)\"| Inbox[Inbox]\n",
    "    CheckAddress[Check Address] -->|not trusted| CheckDomain[Check Domain]\n",
    "    %% Domain Checks\n",
    "    CheckDomain -->|\"trusted \\n(previous interaction,\\nknown university,\\nor whitelist)\"| IsNewsletter1[Check if Newsletter]\n",
    "    CheckDomain -->|untrusted| Occasionally[Read Occasionally]\n",
    "    %% Second Newsletter Checks\n",
    "    IsNewsletter1 -->|\"newsletter\\n(unsubscribe in email text,\\nblacklist)\"| Occasionally[Read Occasionally]\n",
    "    IsNewsletter1 -->|not Newsletter| Inbox[Inbox]\n",
    "    %% Labels for Inbox Moves\n",
    "    style Inbox fill:#9f9,stroke:#333,stroke-width:2px\n",
    "    %% Labels for Folder Moves\n",
    "    style Occasionally fill:#ff9,stroke:#333,stroke-width:2px\n",
    "```"
   ]
  },
  {
   "cell_type": "markdown",
   "metadata": {},
   "source": [
    "## Install\n",
    "(pip install will be implemented soon)"
   ]
  },
  {
   "cell_type": "markdown",
   "metadata": {},
   "source": [
    "```sh\n",
    "pip install email_filter\n",
    "```"
   ]
  },
  {
   "cell_type": "markdown",
   "metadata": {},
   "source": [
    "## How to use"
   ]
  },
  {
   "cell_type": "code",
   "execution_count": null,
   "metadata": {},
   "outputs": [],
   "source": [
    "#| notest\n",
    "\n",
    "# Setup\n",
    "USERNAME = os.environ.get(\"EXCHANGE_USER\") # Set this to your exchange user\n",
    "PASSWORD = os.environ.get(\"EXCHANGE_PASSWORD\") # Set this to your exchange password\n",
    "email_client = EmailClient(\"msx.tu-dresden.de\", 993, USERNAME, PASSWORD) # Set this to your exchange server\n",
    "storage = DataStorage(\"../data\") # Set this to the folder where you want you whitelist files stored\n",
    "\n",
    "# Filter\n",
    "junk_checker = JunkChecker(email_client, storage)\n",
    "junk_checker.update_whitelists() # Updating trusted addresses and domains based on your \"Sent Items\" folder\n",
    "bad_emails = junk_checker.filter_inbox() # Filtering inbox based on trusted domains\n",
    "email_client.logout()"
   ]
  }
 ],
 "metadata": {
  "kernelspec": {
   "display_name": "python3",
   "language": "python",
   "name": "python3"
  }
 },
 "nbformat": 4,
 "nbformat_minor": 4
}
