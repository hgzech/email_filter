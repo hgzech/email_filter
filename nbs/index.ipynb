{
 "cells": [
  {
   "cell_type": "code",
   "execution_count": null,
   "metadata": {},
   "outputs": [],
   "source": [
    "#| hide\n",
    "from email_filter.junk_checker import *"
   ]
  },
  {
   "cell_type": "markdown",
   "metadata": {},
   "source": [
    "# email_filter\n",
    "\n",
    "> An app that filters academic junk"
   ]
  },
  {
   "cell_type": "markdown",
   "metadata": {},
   "source": [
    "## Overview\n"
   ]
  },
  {
   "cell_type": "markdown",
   "metadata": {},
   "source": [
    "```{mermaid}\n",
    "graph TD\n",
    "    A[Get Emails from Exchange] --> B[Check if Email is Junk]\n",
    "    S[Generate/Update 'Safe' List] -.-> B\n",
    "    B -->|Domain in 'Safe' List| C[Not Junk]\n",
    "    B -->|Domain not in 'Safe' List| D[Domain Age Check]\n",
    "    D -->|Young Domain| E[Junk]\n",
    "    D -->|Old Domain| F[Not Junk]\n",
    "    C --> G[Move to Inbox]\n",
    "    F --> G\n",
    "    E --> H[Move to Special Folder for Review]\n",
    "```\n",
    "\n",
    "The app works by checking the domain part of email addresses. It regularly generates a list of verified domains, for example based on emails I have sent in the past. If a domain is not in the verified list, it checks the domains age. If the domain is very young (e.g. < 1 year), it categorizes the email as junk and moves it to a folder for future review."
   ]
  },
  {
   "cell_type": "markdown",
   "metadata": {},
   "source": [
    "## Install"
   ]
  },
  {
   "cell_type": "markdown",
   "metadata": {},
   "source": [
    "```sh\n",
    "pip install email_filter\n",
    "```"
   ]
  }
 ],
 "metadata": {
  "kernelspec": {
   "display_name": "python3",
   "language": "python",
   "name": "python3"
  }
 },
 "nbformat": 4,
 "nbformat_minor": 4
}
