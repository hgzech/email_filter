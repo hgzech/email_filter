{
 "cells": [
  {
   "cell_type": "code",
   "execution_count": null,
   "metadata": {},
   "outputs": [],
   "source": [
    "#| hide\n",
    "#from email_filter.junk_checker import *"
   ]
  },
  {
   "cell_type": "markdown",
   "metadata": {},
   "source": [
    "# email_filter\n",
    "\n",
    "> An app that filters academic junk"
   ]
  },
  {
   "cell_type": "markdown",
   "metadata": {},
   "source": [
    "## Overview\n"
   ]
  },
  {
   "cell_type": "markdown",
   "metadata": {},
   "source": [
    "```{mermaid}\n",
    "graph TD\n",
    "    Start[Fetch New Emails] --> CheckEmail[Check Email Address]\n",
    "    \n",
    "    %% Email Address Checks\n",
    "    CheckEmail -->|Trusted Address| Inbox[Keep in Inbox]\n",
    "    CheckEmail -->|Untrusted Address| CheckDomain[Check Domain]\n",
    "    \n",
    "    %% Domain Checks\n",
    "    CheckDomain -->|Trusted Domain| IsNewsletter[Check if Newsletter]\n",
    "    CheckDomain -->|Untrusted Domain| IsLegit[Check Domain Legitimacy]\n",
    "    \n",
    "    %% Newsletter Checks\n",
    "    IsNewsletter -->|Is Newsletter| Unsubscribe[Move to Unsubscribe Folder]\n",
    "    IsNewsletter -->|Not Newsletter| Inbox[Keep in Inbox]\n",
    "    \n",
    "    %% Legitimacy Checks\n",
    "    IsLegit -->|Legit| IsNewsletter[Check if Newsletter]\n",
    "    IsLegit -->|Not Legit| JunkReview[Move to Junk Review]\n",
    "    \n",
    "    %% Second Newsletter Checks\n",
    "    IsNewsletter -->|Is Newsletter| Unsubscribe[Move to Unsubscribe Folder]\n",
    "    IsNewsletter -->|Not Newsletter| Inbox[Keep in Inbox]\n",
    "    \n",
    "    %% Labels for Inbox Moves\n",
    "    style Inbox fill:#9f9,stroke:#333,stroke-width:2px\n",
    "\n",
    "    \n",
    "    %% Labels for Folder Moves\n",
    "    style Unsubscribe fill:#ff9,stroke:#333,stroke-width:2px\n",
    "    style JunkReview fill:#f99,stroke:#333,stroke-width:2px\n",
    "\n",
    "```"
   ]
  },
  {
   "cell_type": "markdown",
   "metadata": {},
   "source": [
    "## Install"
   ]
  },
  {
   "cell_type": "markdown",
   "metadata": {},
   "source": [
    "```sh\n",
    "pip install email_filter\n",
    "```"
   ]
  }
 ],
 "metadata": {
  "kernelspec": {
   "display_name": "python3",
   "language": "python",
   "name": "python3"
  }
 },
 "nbformat": 4,
 "nbformat_minor": 4
}
