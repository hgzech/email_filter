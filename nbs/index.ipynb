{
 "cells": [
  {
   "cell_type": "code",
   "execution_count": null,
   "metadata": {},
   "outputs": [],
   "source": [
    "#| hide\n",
    "#from email_filter.junk_checker import *"
   ]
  },
  {
   "cell_type": "markdown",
   "metadata": {},
   "source": [
    "# email_filter\n",
    "\n",
    "> An app that filters academic junk"
   ]
  },
  {
   "cell_type": "markdown",
   "metadata": {},
   "source": [
    "## Overview\n"
   ]
  },
  {
   "cell_type": "markdown",
   "metadata": {},
   "source": [
    "```{mermaid}\n",
    "graph TD\n",
    "\n",
    "\n",
    "    Start[Fetch New Emails] --> CheckAddress[Check Address]\n",
    "    Start[Fetch New Emails] --> Update[Update trusted list based on new sent]\n",
    "\n",
    "\n",
    "    CheckAddress[Check Address] -->|\"trusted\\n(previous interaction)\"| Inbox[Inbox]\n",
    "    CheckAddress[Check Address] -->|not trusted| CheckDomain[Check Domain]\n",
    "\n",
    "    \n",
    "    %% Domain Checks\n",
    "    CheckDomain -->|\"trusted \\n(previous interaction,\\nknown university,\\nor whitelist)\"| IsNewsletter1[Check if Newsletter]\n",
    "    CheckDomain -->|untrusted| Occasionally[Read Occasionally]\n",
    "    \n",
    "    \n",
    "    %% Second Newsletter Checks\n",
    "    IsNewsletter1 -->|\"newsletter\\n(unsubscribe in email text,\\nblacklist)\"| Occasionally[Read Occasionally]\n",
    "    IsNewsletter1 -->|not Newsletter| Inbox[Inbox]\n",
    "    \n",
    "    %% Labels for Inbox Moves\n",
    "    style Inbox fill:#9f9,stroke:#333,stroke-width:2px\n",
    "\n",
    "    \n",
    "    %% Labels for Folder Moves\n",
    "    style Occasionally fill:#ff9,stroke:#333,stroke-width:2px\n",
    "\n",
    "```"
   ]
  },
  {
   "cell_type": "markdown",
   "metadata": {},
   "source": [
    "## Install"
   ]
  },
  {
   "cell_type": "markdown",
   "metadata": {},
   "source": [
    "```sh\n",
    "pip install email_filter\n",
    "```"
   ]
  }
 ],
 "metadata": {
  "kernelspec": {
   "display_name": "python3",
   "language": "python",
   "name": "python3"
  }
 },
 "nbformat": 4,
 "nbformat_minor": 4
}
